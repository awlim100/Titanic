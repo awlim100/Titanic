{
 "cells": [
  {
   "cell_type": "markdown",
   "metadata": {},
   "source": [
    "# Titanic \n",
    "\n",
    "For more information on the kaggle dataset, see: https://www.kaggle.com/c/titanic\n",
    "\n",
    "with Mkrtich Ohanyan: https://www.mkrtich.com/"
   ]
  },
  {
   "cell_type": "markdown",
   "metadata": {},
   "source": [
    "Find csv files:"
   ]
  },
  {
   "cell_type": "code",
   "execution_count": 8,
   "metadata": {},
   "outputs": [],
   "source": [
    "import os \n",
    "\n",
    "training=os.path.abspath('train.csv')\n",
    "testing=os.path.abspath('test.csv')"
   ]
  },
  {
   "cell_type": "markdown",
   "metadata": {},
   "source": [
    "Read csv files:"
   ]
  },
  {
   "cell_type": "code",
   "execution_count": 9,
   "metadata": {
    "execution": {
     "iopub.execute_input": "2021-08-23T21:39:48.548065Z",
     "iopub.status.busy": "2021-08-23T21:39:48.547388Z",
     "iopub.status.idle": "2021-08-23T21:39:48.663788Z",
     "shell.execute_reply": "2021-08-23T21:39:48.664331Z",
     "shell.execute_reply.started": "2021-08-23T21:25:53.365521Z"
    },
    "papermill": {
     "duration": 0.147621,
     "end_time": "2021-08-23T21:39:48.664551",
     "exception": false,
     "start_time": "2021-08-23T21:39:48.516930",
     "status": "completed"
    },
    "tags": []
   },
   "outputs": [],
   "source": [
    "import pandas as pd\n",
    "import numpy as np\n",
    "\n",
    "train= pd.read_csv(training)\n",
    "test = pd.read_csv(testing)"
   ]
  },
  {
   "cell_type": "code",
   "execution_count": 10,
   "metadata": {
    "execution": {
     "iopub.execute_input": "2021-08-23T21:39:48.736679Z",
     "iopub.status.busy": "2021-08-23T21:39:48.735672Z",
     "iopub.status.idle": "2021-08-23T21:39:51.056331Z",
     "shell.execute_reply": "2021-08-23T21:39:51.056825Z",
     "shell.execute_reply.started": "2021-08-23T21:26:13.585659Z"
    },
    "papermill": {
     "duration": 2.363473,
     "end_time": "2021-08-23T21:39:51.057003",
     "exception": false,
     "start_time": "2021-08-23T21:39:48.693530",
     "status": "completed"
    },
    "tags": []
   },
   "outputs": [
    {
     "data": {
      "image/png": "[encoded data removed]",
      "text/plain": [
       "<Figure size 432x432 with 4 Axes>"
      ]
     },
     "metadata": {
      "needs_background": "light"
     },
     "output_type": "display_data"
    }
   ],
   "source": [
    "import seaborn as sns\n",
    "import warnings\n",
    "warnings.filterwarnings('ignore')\n",
    "\n",
    "\n",
    "#Put quantitative features in an array\n",
    "quantitative = [f for f in train.columns if train.dtypes[f] != 'object']\n",
    "quantitative.remove('Survived')\n",
    "quantitative.remove('PassengerId')\n",
    "quantitative.remove('Pclass')\n",
    "\n",
    "#Put qualitative features in an array\n",
    "qualitative = [f for f in train.columns if train.dtypes[f] == 'object']\n",
    "qualitative.remove('Name')\n",
    "f = pd.melt(train, value_vars=quantitative)\n",
    "g = sns.FacetGrid(f, col=\"variable\",  col_wrap=2, sharex=False, sharey=False)\n",
    "g = g.map(sns.distplot, \"value\")\n",
    "\n",
    "quantitative_test = [f for f in test.columns if test.dtypes[f] != 'object']\n",
    "\n",
    "quantitative_test.remove('PassengerId')\n",
    "quantitative_test.remove('Pclass')\n",
    "qualitative_test = [f for f in test.columns if test.dtypes[f] == 'object']\n",
    "qualitative_test.remove('Name')\n"
   ]
  },
  {
   "cell_type": "markdown",
   "metadata": {},
   "source": [
    "Fill nulls with 'MISSING'."
   ]
  },
  {
   "cell_type": "code",
   "execution_count": 11,
   "metadata": {
    "execution": {
     "iopub.execute_input": "2021-08-23T21:39:51.115162Z",
     "iopub.status.busy": "2021-08-23T21:39:51.114221Z",
     "iopub.status.idle": "2021-08-23T21:39:51.137137Z",
     "shell.execute_reply": "2021-08-23T21:39:51.137630Z",
     "shell.execute_reply.started": "2021-08-23T21:26:27.642304Z"
    },
    "papermill": {
     "duration": 0.053628,
     "end_time": "2021-08-23T21:39:51.137823",
     "exception": false,
     "start_time": "2021-08-23T21:39:51.084195",
     "status": "completed"
    },
    "tags": []
   },
   "outputs": [],
   "source": [
    "for c in qualitative:\n",
    "    train[c] = train[c].astype('category')\n",
    "    if train[c].isnull().any():\n",
    "        train[c] = train[c].cat.add_categories(['MISSING'])\n",
    "        train[c] = train[c].fillna('MISSING')\n",
    "        \n",
    "for c in qualitative_test:\n",
    "    test[c] = test[c].astype('category')\n",
    "    if test[c].isnull().any():\n",
    "        test[c] = test[c].cat.add_categories(['MISSING'])\n",
    "        test[c] = test[c].fillna('MISSING')      "
   ]
  },
  {
   "cell_type": "code",
   "execution_count": 12,
   "metadata": {
    "execution": {
     "iopub.execute_input": "2021-08-23T21:39:51.196130Z",
     "iopub.status.busy": "2021-08-23T21:39:51.195548Z",
     "iopub.status.idle": "2021-08-23T21:39:51.198955Z",
     "shell.execute_reply": "2021-08-23T21:39:51.199560Z",
     "shell.execute_reply.started": "2021-08-23T21:26:35.813336Z"
    },
    "papermill": {
     "duration": 0.034058,
     "end_time": "2021-08-23T21:39:51.199724",
     "exception": false,
     "start_time": "2021-08-23T21:39:51.165666",
     "status": "completed"
    },
    "tags": []
   },
   "outputs": [],
   "source": [
    "qualitative.append('Pclass')\n",
    "\n",
    "qualitative_test.append('Pclass')"
   ]
  },
  {
   "cell_type": "markdown",
   "metadata": {},
   "source": [
    "Look at missing data. Age is the only feature missing data."
   ]
  },
  {
   "cell_type": "code",
   "execution_count": 13,
   "metadata": {
    "execution": {
     "iopub.execute_input": "2021-08-23T21:39:51.256996Z",
     "iopub.status.busy": "2021-08-23T21:39:51.256343Z",
     "iopub.status.idle": "2021-08-23T21:39:51.283607Z",
     "shell.execute_reply": "2021-08-23T21:39:51.282932Z",
     "shell.execute_reply.started": "2021-08-23T21:26:46.277089Z"
    },
    "papermill": {
     "duration": 0.056662,
     "end_time": "2021-08-23T21:39:51.283744",
     "exception": false,
     "start_time": "2021-08-23T21:39:51.227082",
     "status": "completed"
    },
    "tags": []
   },
   "outputs": [
    {
     "data": {
      "text/html": [
       "<div>\n",
       "<style scoped>\n",
       "    .dataframe tbody tr th:only-of-type {\n",
       "        vertical-align: middle;\n",
       "    }\n",
       "\n",
       "    .dataframe tbody tr th {\n",
       "        vertical-align: top;\n",
       "    }\n",
       "\n",
       "    .dataframe thead th {\n",
       "        text-align: right;\n",
       "    }\n",
       "</style>\n",
       "<table border=\"1\" class=\"dataframe\">\n",
       "  <thead>\n",
       "    <tr style=\"text-align: right;\">\n",
       "      <th></th>\n",
       "      <th>Total</th>\n",
       "      <th>Percent</th>\n",
       "    </tr>\n",
       "  </thead>\n",
       "  <tbody>\n",
       "    <tr>\n",
       "      <th>Age</th>\n",
       "      <td>177</td>\n",
       "      <td>0.198653</td>\n",
       "    </tr>\n",
       "    <tr>\n",
       "      <th>Embarked</th>\n",
       "      <td>0</td>\n",
       "      <td>0.000000</td>\n",
       "    </tr>\n",
       "    <tr>\n",
       "      <th>Cabin</th>\n",
       "      <td>0</td>\n",
       "      <td>0.000000</td>\n",
       "    </tr>\n",
       "    <tr>\n",
       "      <th>Fare</th>\n",
       "      <td>0</td>\n",
       "      <td>0.000000</td>\n",
       "    </tr>\n",
       "    <tr>\n",
       "      <th>Ticket</th>\n",
       "      <td>0</td>\n",
       "      <td>0.000000</td>\n",
       "    </tr>\n",
       "    <tr>\n",
       "      <th>Parch</th>\n",
       "      <td>0</td>\n",
       "      <td>0.000000</td>\n",
       "    </tr>\n",
       "    <tr>\n",
       "      <th>SibSp</th>\n",
       "      <td>0</td>\n",
       "      <td>0.000000</td>\n",
       "    </tr>\n",
       "    <tr>\n",
       "      <th>Sex</th>\n",
       "      <td>0</td>\n",
       "      <td>0.000000</td>\n",
       "    </tr>\n",
       "    <tr>\n",
       "      <th>Name</th>\n",
       "      <td>0</td>\n",
       "      <td>0.000000</td>\n",
       "    </tr>\n",
       "    <tr>\n",
       "      <th>Pclass</th>\n",
       "      <td>0</td>\n",
       "      <td>0.000000</td>\n",
       "    </tr>\n",
       "    <tr>\n",
       "      <th>Survived</th>\n",
       "      <td>0</td>\n",
       "      <td>0.000000</td>\n",
       "    </tr>\n",
       "    <tr>\n",
       "      <th>PassengerId</th>\n",
       "      <td>0</td>\n",
       "      <td>0.000000</td>\n",
       "    </tr>\n",
       "  </tbody>\n",
       "</table>\n",
       "</div>"
      ],
      "text/plain": [
       "             Total   Percent\n",
       "Age            177  0.198653\n",
       "Embarked         0  0.000000\n",
       "Cabin            0  0.000000\n",
       "Fare             0  0.000000\n",
       "Ticket           0  0.000000\n",
       "Parch            0  0.000000\n",
       "SibSp            0  0.000000\n",
       "Sex              0  0.000000\n",
       "Name             0  0.000000\n",
       "Pclass           0  0.000000\n",
       "Survived         0  0.000000\n",
       "PassengerId      0  0.000000"
      ]
     },
     "execution_count": 13,
     "metadata": {},
     "output_type": "execute_result"
    }
   ],
   "source": [
    "#missing data\n",
    "total = train.isnull().sum().sort_values(ascending=False)\n",
    "percent = (train.isnull().sum()/train.isnull().count()).sort_values(ascending=False)\n",
    "missing_data = pd.concat([total, percent], axis=1, keys=['Total', 'Percent'])\n",
    "missing_data"
   ]
  },
  {
   "cell_type": "code",
   "execution_count": 14,
   "metadata": {
    "execution": {
     "iopub.execute_input": "2021-08-23T21:39:51.349908Z",
     "iopub.status.busy": "2021-08-23T21:39:51.349238Z",
     "iopub.status.idle": "2021-08-23T21:39:51.364359Z",
     "shell.execute_reply": "2021-08-23T21:39:51.364965Z",
     "shell.execute_reply.started": "2021-08-23T21:26:56.124925Z"
    },
    "papermill": {
     "duration": 0.052911,
     "end_time": "2021-08-23T21:39:51.365178",
     "exception": false,
     "start_time": "2021-08-23T21:39:51.312267",
     "status": "completed"
    },
    "tags": []
   },
   "outputs": [
    {
     "data": {
      "text/html": [
       "<div>\n",
       "<style scoped>\n",
       "    .dataframe tbody tr th:only-of-type {\n",
       "        vertical-align: middle;\n",
       "    }\n",
       "\n",
       "    .dataframe tbody tr th {\n",
       "        vertical-align: top;\n",
       "    }\n",
       "\n",
       "    .dataframe thead th {\n",
       "        text-align: right;\n",
       "    }\n",
       "</style>\n",
       "<table border=\"1\" class=\"dataframe\">\n",
       "  <thead>\n",
       "    <tr style=\"text-align: right;\">\n",
       "      <th></th>\n",
       "      <th>Total</th>\n",
       "      <th>Percent</th>\n",
       "    </tr>\n",
       "  </thead>\n",
       "  <tbody>\n",
       "    <tr>\n",
       "      <th>Age</th>\n",
       "      <td>177</td>\n",
       "      <td>0.198653</td>\n",
       "    </tr>\n",
       "    <tr>\n",
       "      <th>Embarked</th>\n",
       "      <td>0</td>\n",
       "      <td>0.000000</td>\n",
       "    </tr>\n",
       "    <tr>\n",
       "      <th>Cabin</th>\n",
       "      <td>0</td>\n",
       "      <td>0.000000</td>\n",
       "    </tr>\n",
       "    <tr>\n",
       "      <th>Fare</th>\n",
       "      <td>0</td>\n",
       "      <td>0.000000</td>\n",
       "    </tr>\n",
       "    <tr>\n",
       "      <th>Ticket</th>\n",
       "      <td>0</td>\n",
       "      <td>0.000000</td>\n",
       "    </tr>\n",
       "    <tr>\n",
       "      <th>Parch</th>\n",
       "      <td>0</td>\n",
       "      <td>0.000000</td>\n",
       "    </tr>\n",
       "    <tr>\n",
       "      <th>SibSp</th>\n",
       "      <td>0</td>\n",
       "      <td>0.000000</td>\n",
       "    </tr>\n",
       "    <tr>\n",
       "      <th>Sex</th>\n",
       "      <td>0</td>\n",
       "      <td>0.000000</td>\n",
       "    </tr>\n",
       "    <tr>\n",
       "      <th>Name</th>\n",
       "      <td>0</td>\n",
       "      <td>0.000000</td>\n",
       "    </tr>\n",
       "    <tr>\n",
       "      <th>Pclass</th>\n",
       "      <td>0</td>\n",
       "      <td>0.000000</td>\n",
       "    </tr>\n",
       "    <tr>\n",
       "      <th>Survived</th>\n",
       "      <td>0</td>\n",
       "      <td>0.000000</td>\n",
       "    </tr>\n",
       "    <tr>\n",
       "      <th>PassengerId</th>\n",
       "      <td>0</td>\n",
       "      <td>0.000000</td>\n",
       "    </tr>\n",
       "  </tbody>\n",
       "</table>\n",
       "</div>"
      ],
      "text/plain": [
       "             Total   Percent\n",
       "Age            177  0.198653\n",
       "Embarked         0  0.000000\n",
       "Cabin            0  0.000000\n",
       "Fare             0  0.000000\n",
       "Ticket           0  0.000000\n",
       "Parch            0  0.000000\n",
       "SibSp            0  0.000000\n",
       "Sex              0  0.000000\n",
       "Name             0  0.000000\n",
       "Pclass           0  0.000000\n",
       "Survived         0  0.000000\n",
       "PassengerId      0  0.000000"
      ]
     },
     "execution_count": 14,
     "metadata": {},
     "output_type": "execute_result"
    }
   ],
   "source": [
    "#missing data\n",
    "total_test = test.isnull().sum().sort_values(ascending=False)\n",
    "percent_test = (test.isnull().sum()/test.isnull().count()).sort_values(ascending=False)\n",
    "missing_data_test = pd.concat([total, percent], axis=1, keys=['Total', 'Percent'])\n",
    "missing_data_test"
   ]
  },
  {
   "cell_type": "markdown",
   "metadata": {},
   "source": [
    "Fill missing data with column average."
   ]
  },
  {
   "cell_type": "code",
   "execution_count": 15,
   "metadata": {
    "execution": {
     "iopub.execute_input": "2021-08-23T21:39:51.427719Z",
     "iopub.status.busy": "2021-08-23T21:39:51.426725Z",
     "iopub.status.idle": "2021-08-23T21:39:51.852639Z",
     "shell.execute_reply": "2021-08-23T21:39:51.853227Z",
     "shell.execute_reply.started": "2021-08-23T21:27:05.863712Z"
    },
    "papermill": {
     "duration": 0.458476,
     "end_time": "2021-08-23T21:39:51.853415",
     "exception": false,
     "start_time": "2021-08-23T21:39:51.394939",
     "status": "completed"
    },
    "tags": []
   },
   "outputs": [],
   "source": [
    "from sklearn.impute import SimpleImputer\n",
    "my_imputer = SimpleImputer()\n",
    "train[quantitative] = my_imputer.fit_transform(train[quantitative])"
   ]
  },
  {
   "cell_type": "code",
   "execution_count": 16,
   "metadata": {
    "execution": {
     "iopub.execute_input": "2021-08-23T21:39:51.916630Z",
     "iopub.status.busy": "2021-08-23T21:39:51.915663Z",
     "iopub.status.idle": "2021-08-23T21:39:51.928512Z",
     "shell.execute_reply": "2021-08-23T21:39:51.929097Z",
     "shell.execute_reply.started": "2021-08-23T21:27:16.047150Z"
    },
    "papermill": {
     "duration": 0.044751,
     "end_time": "2021-08-23T21:39:51.929283",
     "exception": false,
     "start_time": "2021-08-23T21:39:51.884532",
     "status": "completed"
    },
    "tags": []
   },
   "outputs": [],
   "source": [
    "test[quantitative_test] = my_imputer.fit_transform(test[quantitative_test])"
   ]
  },
  {
   "cell_type": "markdown",
   "metadata": {},
   "source": [
    "Make 'Name' just the first name."
   ]
  },
  {
   "cell_type": "code",
   "execution_count": 18,
   "metadata": {
    "execution": {
     "iopub.execute_input": "2021-08-23T21:39:51.992309Z",
     "iopub.status.busy": "2021-08-23T21:39:51.991340Z",
     "iopub.status.idle": "2021-08-23T21:39:52.034861Z",
     "shell.execute_reply": "2021-08-23T21:39:52.035354Z",
     "shell.execute_reply.started": "2021-08-23T21:27:25.617330Z"
    },
    "papermill": {
     "duration": 0.075327,
     "end_time": "2021-08-23T21:39:52.035566",
     "exception": false,
     "start_time": "2021-08-23T21:39:51.960239",
     "status": "completed"
    },
    "tags": []
   },
   "outputs": [
    {
     "data": {
      "text/html": [
       "<div>\n",
       "<style scoped>\n",
       "    .dataframe tbody tr th:only-of-type {\n",
       "        vertical-align: middle;\n",
       "    }\n",
       "\n",
       "    .dataframe tbody tr th {\n",
       "        vertical-align: top;\n",
       "    }\n",
       "\n",
       "    .dataframe thead th {\n",
       "        text-align: right;\n",
       "    }\n",
       "</style>\n",
       "<table border=\"1\" class=\"dataframe\">\n",
       "  <thead>\n",
       "    <tr style=\"text-align: right;\">\n",
       "      <th></th>\n",
       "      <th>PassengerId</th>\n",
       "      <th>Survived</th>\n",
       "      <th>Pclass</th>\n",
       "      <th>Name</th>\n",
       "      <th>Sex</th>\n",
       "      <th>Age</th>\n",
       "      <th>SibSp</th>\n",
       "      <th>Parch</th>\n",
       "      <th>Ticket</th>\n",
       "      <th>Fare</th>\n",
       "      <th>Cabin</th>\n",
       "      <th>Embarked</th>\n",
       "    </tr>\n",
       "  </thead>\n",
       "  <tbody>\n",
       "    <tr>\n",
       "      <th>0</th>\n",
       "      <td>1</td>\n",
       "      <td>0</td>\n",
       "      <td>3</td>\n",
       "      <td>Braund</td>\n",
       "      <td>male</td>\n",
       "      <td>22.000000</td>\n",
       "      <td>1.0</td>\n",
       "      <td>0.0</td>\n",
       "      <td>A/5 21171</td>\n",
       "      <td>7.2500</td>\n",
       "      <td>MISSING</td>\n",
       "      <td>S</td>\n",
       "    </tr>\n",
       "    <tr>\n",
       "      <th>1</th>\n",
       "      <td>2</td>\n",
       "      <td>1</td>\n",
       "      <td>1</td>\n",
       "      <td>Cumings</td>\n",
       "      <td>female</td>\n",
       "      <td>38.000000</td>\n",
       "      <td>1.0</td>\n",
       "      <td>0.0</td>\n",
       "      <td>PC 17599</td>\n",
       "      <td>71.2833</td>\n",
       "      <td>C85</td>\n",
       "      <td>C</td>\n",
       "    </tr>\n",
       "    <tr>\n",
       "      <th>2</th>\n",
       "      <td>3</td>\n",
       "      <td>1</td>\n",
       "      <td>3</td>\n",
       "      <td>Heikkinen</td>\n",
       "      <td>female</td>\n",
       "      <td>26.000000</td>\n",
       "      <td>0.0</td>\n",
       "      <td>0.0</td>\n",
       "      <td>STON/O2. 3101282</td>\n",
       "      <td>7.9250</td>\n",
       "      <td>MISSING</td>\n",
       "      <td>S</td>\n",
       "    </tr>\n",
       "    <tr>\n",
       "      <th>3</th>\n",
       "      <td>4</td>\n",
       "      <td>1</td>\n",
       "      <td>1</td>\n",
       "      <td>Futrelle</td>\n",
       "      <td>female</td>\n",
       "      <td>35.000000</td>\n",
       "      <td>1.0</td>\n",
       "      <td>0.0</td>\n",
       "      <td>113803</td>\n",
       "      <td>53.1000</td>\n",
       "      <td>C123</td>\n",
       "      <td>S</td>\n",
       "    </tr>\n",
       "    <tr>\n",
       "      <th>4</th>\n",
       "      <td>5</td>\n",
       "      <td>0</td>\n",
       "      <td>3</td>\n",
       "      <td>Allen</td>\n",
       "      <td>male</td>\n",
       "      <td>35.000000</td>\n",
       "      <td>0.0</td>\n",
       "      <td>0.0</td>\n",
       "      <td>373450</td>\n",
       "      <td>8.0500</td>\n",
       "      <td>MISSING</td>\n",
       "      <td>S</td>\n",
       "    </tr>\n",
       "    <tr>\n",
       "      <th>...</th>\n",
       "      <td>...</td>\n",
       "      <td>...</td>\n",
       "      <td>...</td>\n",
       "      <td>...</td>\n",
       "      <td>...</td>\n",
       "      <td>...</td>\n",
       "      <td>...</td>\n",
       "      <td>...</td>\n",
       "      <td>...</td>\n",
       "      <td>...</td>\n",
       "      <td>...</td>\n",
       "      <td>...</td>\n",
       "    </tr>\n",
       "    <tr>\n",
       "      <th>886</th>\n",
       "      <td>887</td>\n",
       "      <td>0</td>\n",
       "      <td>2</td>\n",
       "      <td>Montvila</td>\n",
       "      <td>male</td>\n",
       "      <td>27.000000</td>\n",
       "      <td>0.0</td>\n",
       "      <td>0.0</td>\n",
       "      <td>211536</td>\n",
       "      <td>13.0000</td>\n",
       "      <td>MISSING</td>\n",
       "      <td>S</td>\n",
       "    </tr>\n",
       "    <tr>\n",
       "      <th>887</th>\n",
       "      <td>888</td>\n",
       "      <td>1</td>\n",
       "      <td>1</td>\n",
       "      <td>Graham</td>\n",
       "      <td>female</td>\n",
       "      <td>19.000000</td>\n",
       "      <td>0.0</td>\n",
       "      <td>0.0</td>\n",
       "      <td>112053</td>\n",
       "      <td>30.0000</td>\n",
       "      <td>B42</td>\n",
       "      <td>S</td>\n",
       "    </tr>\n",
       "    <tr>\n",
       "      <th>888</th>\n",
       "      <td>889</td>\n",
       "      <td>0</td>\n",
       "      <td>3</td>\n",
       "      <td>Johnston</td>\n",
       "      <td>female</td>\n",
       "      <td>29.699118</td>\n",
       "      <td>1.0</td>\n",
       "      <td>2.0</td>\n",
       "      <td>W./C. 6607</td>\n",
       "      <td>23.4500</td>\n",
       "      <td>MISSING</td>\n",
       "      <td>S</td>\n",
       "    </tr>\n",
       "    <tr>\n",
       "      <th>889</th>\n",
       "      <td>890</td>\n",
       "      <td>1</td>\n",
       "      <td>1</td>\n",
       "      <td>Behr</td>\n",
       "      <td>male</td>\n",
       "      <td>26.000000</td>\n",
       "      <td>0.0</td>\n",
       "      <td>0.0</td>\n",
       "      <td>111369</td>\n",
       "      <td>30.0000</td>\n",
       "      <td>C148</td>\n",
       "      <td>C</td>\n",
       "    </tr>\n",
       "    <tr>\n",
       "      <th>890</th>\n",
       "      <td>891</td>\n",
       "      <td>0</td>\n",
       "      <td>3</td>\n",
       "      <td>Dooley</td>\n",
       "      <td>male</td>\n",
       "      <td>32.000000</td>\n",
       "      <td>0.0</td>\n",
       "      <td>0.0</td>\n",
       "      <td>370376</td>\n",
       "      <td>7.7500</td>\n",
       "      <td>MISSING</td>\n",
       "      <td>Q</td>\n",
       "    </tr>\n",
       "  </tbody>\n",
       "</table>\n",
       "<p>891 rows × 12 columns</p>\n",
       "</div>"
      ],
      "text/plain": [
       "     PassengerId  Survived  Pclass       Name     Sex        Age  SibSp  \\\n",
       "0              1         0       3     Braund    male  22.000000    1.0   \n",
       "1              2         1       1    Cumings  female  38.000000    1.0   \n",
       "2              3         1       3  Heikkinen  female  26.000000    0.0   \n",
       "3              4         1       1   Futrelle  female  35.000000    1.0   \n",
       "4              5         0       3      Allen    male  35.000000    0.0   \n",
       "..           ...       ...     ...        ...     ...        ...    ...   \n",
       "886          887         0       2   Montvila    male  27.000000    0.0   \n",
       "887          888         1       1     Graham  female  19.000000    0.0   \n",
       "888          889         0       3   Johnston  female  29.699118    1.0   \n",
       "889          890         1       1       Behr    male  26.000000    0.0   \n",
       "890          891         0       3     Dooley    male  32.000000    0.0   \n",
       "\n",
       "     Parch            Ticket     Fare    Cabin Embarked  \n",
       "0      0.0         A/5 21171   7.2500  MISSING        S  \n",
       "1      0.0          PC 17599  71.2833      C85        C  \n",
       "2      0.0  STON/O2. 3101282   7.9250  MISSING        S  \n",
       "3      0.0            113803  53.1000     C123        S  \n",
       "4      0.0            373450   8.0500  MISSING        S  \n",
       "..     ...               ...      ...      ...      ...  \n",
       "886    0.0            211536  13.0000  MISSING        S  \n",
       "887    0.0            112053  30.0000      B42        S  \n",
       "888    2.0        W./C. 6607  23.4500  MISSING        S  \n",
       "889    0.0            111369  30.0000     C148        C  \n",
       "890    0.0            370376   7.7500  MISSING        Q  \n",
       "\n",
       "[891 rows x 12 columns]"
      ]
     },
     "execution_count": 18,
     "metadata": {},
     "output_type": "execute_result"
    }
   ],
   "source": [
    "train[\"Name\"] = train[\"Name\"].str.split(\",\").str.get(0)\n",
    "train.groupby('Name')\n",
    "train"
   ]
  },
  {
   "cell_type": "code",
   "execution_count": 19,
   "metadata": {
    "execution": {
     "iopub.execute_input": "2021-08-23T21:39:52.097857Z",
     "iopub.status.busy": "2021-08-23T21:39:52.097194Z",
     "iopub.status.idle": "2021-08-23T21:39:52.136954Z",
     "shell.execute_reply": "2021-08-23T21:39:52.137464Z",
     "shell.execute_reply.started": "2021-08-23T21:27:35.136485Z"
    },
    "papermill": {
     "duration": 0.072428,
     "end_time": "2021-08-23T21:39:52.137635",
     "exception": false,
     "start_time": "2021-08-23T21:39:52.065207",
     "status": "completed"
    },
    "tags": []
   },
   "outputs": [
    {
     "data": {
      "text/html": [
       "<div>\n",
       "<style scoped>\n",
       "    .dataframe tbody tr th:only-of-type {\n",
       "        vertical-align: middle;\n",
       "    }\n",
       "\n",
       "    .dataframe tbody tr th {\n",
       "        vertical-align: top;\n",
       "    }\n",
       "\n",
       "    .dataframe thead th {\n",
       "        text-align: right;\n",
       "    }\n",
       "</style>\n",
       "<table border=\"1\" class=\"dataframe\">\n",
       "  <thead>\n",
       "    <tr style=\"text-align: right;\">\n",
       "      <th></th>\n",
       "      <th>PassengerId</th>\n",
       "      <th>Pclass</th>\n",
       "      <th>Name</th>\n",
       "      <th>Sex</th>\n",
       "      <th>Age</th>\n",
       "      <th>SibSp</th>\n",
       "      <th>Parch</th>\n",
       "      <th>Ticket</th>\n",
       "      <th>Fare</th>\n",
       "      <th>Cabin</th>\n",
       "      <th>Embarked</th>\n",
       "    </tr>\n",
       "  </thead>\n",
       "  <tbody>\n",
       "    <tr>\n",
       "      <th>0</th>\n",
       "      <td>892</td>\n",
       "      <td>3</td>\n",
       "      <td>Kelly</td>\n",
       "      <td>male</td>\n",
       "      <td>34.50000</td>\n",
       "      <td>0.0</td>\n",
       "      <td>0.0</td>\n",
       "      <td>330911</td>\n",
       "      <td>7.8292</td>\n",
       "      <td>MISSING</td>\n",
       "      <td>Q</td>\n",
       "    </tr>\n",
       "    <tr>\n",
       "      <th>1</th>\n",
       "      <td>893</td>\n",
       "      <td>3</td>\n",
       "      <td>Wilkes</td>\n",
       "      <td>female</td>\n",
       "      <td>47.00000</td>\n",
       "      <td>1.0</td>\n",
       "      <td>0.0</td>\n",
       "      <td>363272</td>\n",
       "      <td>7.0000</td>\n",
       "      <td>MISSING</td>\n",
       "      <td>S</td>\n",
       "    </tr>\n",
       "    <tr>\n",
       "      <th>2</th>\n",
       "      <td>894</td>\n",
       "      <td>2</td>\n",
       "      <td>Myles</td>\n",
       "      <td>male</td>\n",
       "      <td>62.00000</td>\n",
       "      <td>0.0</td>\n",
       "      <td>0.0</td>\n",
       "      <td>240276</td>\n",
       "      <td>9.6875</td>\n",
       "      <td>MISSING</td>\n",
       "      <td>Q</td>\n",
       "    </tr>\n",
       "    <tr>\n",
       "      <th>3</th>\n",
       "      <td>895</td>\n",
       "      <td>3</td>\n",
       "      <td>Wirz</td>\n",
       "      <td>male</td>\n",
       "      <td>27.00000</td>\n",
       "      <td>0.0</td>\n",
       "      <td>0.0</td>\n",
       "      <td>315154</td>\n",
       "      <td>8.6625</td>\n",
       "      <td>MISSING</td>\n",
       "      <td>S</td>\n",
       "    </tr>\n",
       "    <tr>\n",
       "      <th>4</th>\n",
       "      <td>896</td>\n",
       "      <td>3</td>\n",
       "      <td>Hirvonen</td>\n",
       "      <td>female</td>\n",
       "      <td>22.00000</td>\n",
       "      <td>1.0</td>\n",
       "      <td>1.0</td>\n",
       "      <td>3101298</td>\n",
       "      <td>12.2875</td>\n",
       "      <td>MISSING</td>\n",
       "      <td>S</td>\n",
       "    </tr>\n",
       "    <tr>\n",
       "      <th>...</th>\n",
       "      <td>...</td>\n",
       "      <td>...</td>\n",
       "      <td>...</td>\n",
       "      <td>...</td>\n",
       "      <td>...</td>\n",
       "      <td>...</td>\n",
       "      <td>...</td>\n",
       "      <td>...</td>\n",
       "      <td>...</td>\n",
       "      <td>...</td>\n",
       "      <td>...</td>\n",
       "    </tr>\n",
       "    <tr>\n",
       "      <th>413</th>\n",
       "      <td>1305</td>\n",
       "      <td>3</td>\n",
       "      <td>Spector</td>\n",
       "      <td>male</td>\n",
       "      <td>30.27259</td>\n",
       "      <td>0.0</td>\n",
       "      <td>0.0</td>\n",
       "      <td>A.5. 3236</td>\n",
       "      <td>8.0500</td>\n",
       "      <td>MISSING</td>\n",
       "      <td>S</td>\n",
       "    </tr>\n",
       "    <tr>\n",
       "      <th>414</th>\n",
       "      <td>1306</td>\n",
       "      <td>1</td>\n",
       "      <td>Oliva y Ocana</td>\n",
       "      <td>female</td>\n",
       "      <td>39.00000</td>\n",
       "      <td>0.0</td>\n",
       "      <td>0.0</td>\n",
       "      <td>PC 17758</td>\n",
       "      <td>108.9000</td>\n",
       "      <td>C105</td>\n",
       "      <td>C</td>\n",
       "    </tr>\n",
       "    <tr>\n",
       "      <th>415</th>\n",
       "      <td>1307</td>\n",
       "      <td>3</td>\n",
       "      <td>Saether</td>\n",
       "      <td>male</td>\n",
       "      <td>38.50000</td>\n",
       "      <td>0.0</td>\n",
       "      <td>0.0</td>\n",
       "      <td>SOTON/O.Q. 3101262</td>\n",
       "      <td>7.2500</td>\n",
       "      <td>MISSING</td>\n",
       "      <td>S</td>\n",
       "    </tr>\n",
       "    <tr>\n",
       "      <th>416</th>\n",
       "      <td>1308</td>\n",
       "      <td>3</td>\n",
       "      <td>Ware</td>\n",
       "      <td>male</td>\n",
       "      <td>30.27259</td>\n",
       "      <td>0.0</td>\n",
       "      <td>0.0</td>\n",
       "      <td>359309</td>\n",
       "      <td>8.0500</td>\n",
       "      <td>MISSING</td>\n",
       "      <td>S</td>\n",
       "    </tr>\n",
       "    <tr>\n",
       "      <th>417</th>\n",
       "      <td>1309</td>\n",
       "      <td>3</td>\n",
       "      <td>Peter</td>\n",
       "      <td>male</td>\n",
       "      <td>30.27259</td>\n",
       "      <td>1.0</td>\n",
       "      <td>1.0</td>\n",
       "      <td>2668</td>\n",
       "      <td>22.3583</td>\n",
       "      <td>MISSING</td>\n",
       "      <td>C</td>\n",
       "    </tr>\n",
       "  </tbody>\n",
       "</table>\n",
       "<p>418 rows × 11 columns</p>\n",
       "</div>"
      ],
      "text/plain": [
       "     PassengerId  Pclass           Name     Sex       Age  SibSp  Parch  \\\n",
       "0            892       3          Kelly    male  34.50000    0.0    0.0   \n",
       "1            893       3         Wilkes  female  47.00000    1.0    0.0   \n",
       "2            894       2          Myles    male  62.00000    0.0    0.0   \n",
       "3            895       3           Wirz    male  27.00000    0.0    0.0   \n",
       "4            896       3       Hirvonen  female  22.00000    1.0    1.0   \n",
       "..           ...     ...            ...     ...       ...    ...    ...   \n",
       "413         1305       3        Spector    male  30.27259    0.0    0.0   \n",
       "414         1306       1  Oliva y Ocana  female  39.00000    0.0    0.0   \n",
       "415         1307       3        Saether    male  38.50000    0.0    0.0   \n",
       "416         1308       3           Ware    male  30.27259    0.0    0.0   \n",
       "417         1309       3          Peter    male  30.27259    1.0    1.0   \n",
       "\n",
       "                 Ticket      Fare    Cabin Embarked  \n",
       "0                330911    7.8292  MISSING        Q  \n",
       "1                363272    7.0000  MISSING        S  \n",
       "2                240276    9.6875  MISSING        Q  \n",
       "3                315154    8.6625  MISSING        S  \n",
       "4               3101298   12.2875  MISSING        S  \n",
       "..                  ...       ...      ...      ...  \n",
       "413           A.5. 3236    8.0500  MISSING        S  \n",
       "414            PC 17758  108.9000     C105        C  \n",
       "415  SOTON/O.Q. 3101262    7.2500  MISSING        S  \n",
       "416              359309    8.0500  MISSING        S  \n",
       "417                2668   22.3583  MISSING        C  \n",
       "\n",
       "[418 rows x 11 columns]"
      ]
     },
     "execution_count": 19,
     "metadata": {},
     "output_type": "execute_result"
    }
   ],
   "source": [
    "test[\"Name\"] = test[\"Name\"].str.split(\",\").str.get(0)\n",
    "test.groupby('Name')\n",
    "test"
   ]
  },
  {
   "cell_type": "code",
   "execution_count": 20,
   "metadata": {
    "execution": {
     "iopub.execute_input": "2021-08-23T21:39:52.206615Z",
     "iopub.status.busy": "2021-08-23T21:39:52.205898Z",
     "iopub.status.idle": "2021-08-23T21:39:52.209183Z",
     "shell.execute_reply": "2021-08-23T21:39:52.208544Z",
     "shell.execute_reply.started": "2021-08-23T21:27:45.914464Z"
    },
    "papermill": {
     "duration": 0.040944,
     "end_time": "2021-08-23T21:39:52.209331",
     "exception": false,
     "start_time": "2021-08-23T21:39:52.168387",
     "status": "completed"
    },
    "tags": []
   },
   "outputs": [],
   "source": [
    "def anova(frame):\n",
    "    anv = pd.DataFrame()\n",
    "    anv['feature'] = qualitative\n",
    "    pvals = []\n",
    "    for c in qualitative:\n",
    "        samples = []\n",
    "        for cls in frame[c].unique():\n",
    "            s = frame[frame[c] == cls]['Survived'].values\n",
    "            samples.append(s)\n",
    "        pval = stats.f_oneway(*samples)[1]\n",
    "        pvals.append(pval)\n",
    "    anv['pval'] = pvals\n",
    "    return anv.sort_values('pval')"
   ]
  },
  {
   "cell_type": "markdown",
   "metadata": {},
   "source": [
    "Look at correlations."
   ]
  },
  {
   "cell_type": "code",
   "execution_count": 22,
   "metadata": {
    "execution": {
     "iopub.execute_input": "2021-08-23T21:39:52.280314Z",
     "iopub.status.busy": "2021-08-23T21:39:52.279611Z",
     "iopub.status.idle": "2021-08-23T21:39:53.283001Z",
     "shell.execute_reply": "2021-08-23T21:39:53.283504Z",
     "shell.execute_reply.started": "2021-08-23T21:27:56.481674Z"
    },
    "papermill": {
     "duration": 1.044482,
     "end_time": "2021-08-23T21:39:53.283697",
     "exception": false,
     "start_time": "2021-08-23T21:39:52.239215",
     "status": "completed"
    },
    "tags": []
   },
   "outputs": [
    {
     "data": {
      "image/png": "[encoded data removed]",
      "text/plain": [
       "<Figure size 432x288 with 1 Axes>"
      ]
     },
     "metadata": {
      "needs_background": "light"
     },
     "output_type": "display_data"
    }
   ],
   "source": [
    "from scipy import stats\n",
    "import matplotlib.pyplot as plt\n",
    "a = anova(train)\n",
    "a['disparity'] = np.log(1./a['pval'].values)\n",
    "sns.barplot(data=a, x='feature', y='disparity')\n",
    "x=plt.xticks(rotation=90)"
   ]
  },
  {
   "cell_type": "code",
   "execution_count": 23,
   "metadata": {
    "execution": {
     "iopub.execute_input": "2021-08-23T21:39:53.352183Z",
     "iopub.status.busy": "2021-08-23T21:39:53.350940Z",
     "iopub.status.idle": "2021-08-23T21:39:53.887066Z",
     "shell.execute_reply": "2021-08-23T21:39:53.886535Z",
     "shell.execute_reply.started": "2021-08-23T21:28:07.048195Z"
    },
    "papermill": {
     "duration": 0.572278,
     "end_time": "2021-08-23T21:39:53.887235",
     "exception": false,
     "start_time": "2021-08-23T21:39:53.314957",
     "status": "completed"
    },
    "tags": []
   },
   "outputs": [
    {
     "data": {
      "text/plain": [
       "<seaborn.axisgrid.FacetGrid at 0x7fca22e875b0>"
      ]
     },
     "execution_count": 23,
     "metadata": {},
     "output_type": "execute_result"
    },
    {
     "data": {
      "image/png": "[encoded data removed]",
      "text/plain": [
       "<Figure size 402.375x360 with 1 Axes>"
      ]
     },
     "metadata": {
      "needs_background": "light"
     },
     "output_type": "display_data"
    }
   ],
   "source": [
    "sns.catplot(x=\"Sex\", y=\"Survived\", hue=\"Pclass\", kind=\"bar\", data=train)"
   ]
  },
  {
   "cell_type": "code",
   "execution_count": 24,
   "metadata": {
    "execution": {
     "iopub.execute_input": "2021-08-23T21:39:53.961097Z",
     "iopub.status.busy": "2021-08-23T21:39:53.960075Z",
     "iopub.status.idle": "2021-08-23T21:39:53.964577Z",
     "shell.execute_reply": "2021-08-23T21:39:53.963939Z",
     "shell.execute_reply.started": "2021-08-23T21:28:17.219722Z"
    },
    "papermill": {
     "duration": 0.045917,
     "end_time": "2021-08-23T21:39:53.964727",
     "exception": false,
     "start_time": "2021-08-23T21:39:53.918810",
     "status": "completed"
    },
    "tags": []
   },
   "outputs": [
    {
     "data": {
      "text/plain": [
       "array(['M', 'C', 'E', 'G', 'D', 'A', 'B', 'F', 'T'], dtype=object)"
      ]
     },
     "execution_count": 24,
     "metadata": {},
     "output_type": "execute_result"
    }
   ],
   "source": [
    "train[\"Cabin1\"] = train[\"Cabin\"].str.get(0)\n",
    "#train.groupby('Name')\n",
    "\n",
    "test[\"Cabin1\"] = test[\"Cabin\"].str.get(0)\n",
    "test.groupby('Name')\n",
    "train['Cabin1'].unique()"
   ]
  },
  {
   "cell_type": "code",
   "execution_count": 25,
   "metadata": {
    "execution": {
     "iopub.execute_input": "2021-08-23T21:39:54.035267Z",
     "iopub.status.busy": "2021-08-23T21:39:54.034407Z",
     "iopub.status.idle": "2021-08-23T21:39:54.606538Z",
     "shell.execute_reply": "2021-08-23T21:39:54.607015Z",
     "shell.execute_reply.started": "2021-08-23T21:28:24.558992Z"
    },
    "papermill": {
     "duration": 0.610363,
     "end_time": "2021-08-23T21:39:54.607199",
     "exception": false,
     "start_time": "2021-08-23T21:39:53.996836",
     "status": "completed"
    },
    "tags": []
   },
   "outputs": [
    {
     "data": {
      "text/plain": [
       "<seaborn.axisgrid.FacetGrid at 0x7fca22e87310>"
      ]
     },
     "execution_count": 25,
     "metadata": {},
     "output_type": "execute_result"
    },
    {
     "data": {
      "image/png": "[encoded data removed]",
      "text/plain": [
       "<Figure size 360x360 with 1 Axes>"
      ]
     },
     "metadata": {
      "needs_background": "light"
     },
     "output_type": "display_data"
    }
   ],
   "source": [
    "sns.catplot(x=\"Cabin1\", y=\"Survived\", kind=\"bar\", data=train)"
   ]
  },
  {
   "cell_type": "code",
   "execution_count": null,
   "metadata": {
    "execution": {
     "iopub.execute_input": "2021-08-23T21:39:54.703936Z",
     "iopub.status.busy": "2021-08-23T21:39:54.679648Z",
     "iopub.status.idle": "2021-08-23T21:39:55.055656Z",
     "shell.execute_reply": "2021-08-23T21:39:55.056123Z",
     "shell.execute_reply.started": "2021-08-23T21:28:32.839274Z"
    },
    "papermill": {
     "duration": 0.415964,
     "end_time": "2021-08-23T21:39:55.056297",
     "exception": false,
     "start_time": "2021-08-23T21:39:54.640333",
     "status": "completed"
    },
    "tags": []
   },
   "outputs": [
    {
     "data": {
      "text/plain": [
       "<seaborn.axisgrid.FacetGrid at 0x7fca2400bf70>"
      ]
     },
     "execution_count": 26,
     "metadata": {},
     "output_type": "execute_result"
    }
   ],
   "source": [
    "sns.catplot(x=\"Embarked\", y=\"Survived\", kind=\"bar\", data=train)"
   ]
  },
  {
   "cell_type": "code",
   "execution_count": 18,
   "metadata": {
    "execution": {
     "iopub.execute_input": "2021-08-23T21:39:55.127896Z",
     "iopub.status.busy": "2021-08-23T21:39:55.127258Z",
     "iopub.status.idle": "2021-08-23T21:39:55.131665Z",
     "shell.execute_reply": "2021-08-23T21:39:55.132185Z",
     "shell.execute_reply.started": "2021-08-23T21:28:41.266242Z"
    },
    "papermill": {
     "duration": 0.041268,
     "end_time": "2021-08-23T21:39:55.132363",
     "exception": false,
     "start_time": "2021-08-23T21:39:55.091095",
     "status": "completed"
    },
    "tags": []
   },
   "outputs": [],
   "source": [
    "from sklearn.preprocessing import OrdinalEncoder\n",
    "sex = ['male', 'female']\n",
    "cabin = ['T','M', 'A', 'G','F','C','E','D','B']\n",
    "embarked=['S','Q','C','MISSING']"
   ]
  },
  {
   "cell_type": "code",
   "execution_count": 19,
   "metadata": {
    "execution": {
     "iopub.execute_input": "2021-08-23T21:39:55.204146Z",
     "iopub.status.busy": "2021-08-23T21:39:55.203505Z",
     "iopub.status.idle": "2021-08-23T21:39:55.208535Z",
     "shell.execute_reply": "2021-08-23T21:39:55.207984Z",
     "shell.execute_reply.started": "2021-08-23T21:28:51.792935Z"
    },
    "papermill": {
     "duration": 0.041819,
     "end_time": "2021-08-23T21:39:55.208691",
     "exception": false,
     "start_time": "2021-08-23T21:39:55.166872",
     "status": "completed"
    },
    "tags": []
   },
   "outputs": [],
   "source": [
    "# Now, when you instantiate the encoder, both of these lists go in one big categories list:\n",
    "encoder = OrdinalEncoder(categories=[sex, cabin,embarked])"
   ]
  },
  {
   "cell_type": "code",
   "execution_count": 20,
   "metadata": {
    "execution": {
     "iopub.execute_input": "2021-08-23T21:39:55.288570Z",
     "iopub.status.busy": "2021-08-23T21:39:55.287811Z",
     "iopub.status.idle": "2021-08-23T21:39:55.293590Z",
     "shell.execute_reply": "2021-08-23T21:39:55.294113Z",
     "shell.execute_reply.started": "2021-08-23T21:28:59.454464Z"
    },
    "papermill": {
     "duration": 0.05155,
     "end_time": "2021-08-23T21:39:55.294284",
     "exception": false,
     "start_time": "2021-08-23T21:39:55.242734",
     "status": "completed"
    },
    "tags": []
   },
   "outputs": [],
   "source": [
    "my_array=encoder.fit_transform(train[['Sex', 'Cabin1','Embarked']]).reshape((891,3)).tolist()\n",
    "my_array_test=encoder.fit_transform(test[['Sex', 'Cabin1','Embarked']]).reshape((418,3)).tolist()"
   ]
  },
  {
   "cell_type": "code",
   "execution_count": 21,
   "metadata": {
    "execution": {
     "iopub.execute_input": "2021-08-23T21:39:55.366201Z",
     "iopub.status.busy": "2021-08-23T21:39:55.365560Z",
     "iopub.status.idle": "2021-08-23T21:39:55.410936Z",
     "shell.execute_reply": "2021-08-23T21:39:55.410409Z",
     "shell.execute_reply.started": "2021-08-23T21:29:10.781176Z"
    },
    "papermill": {
     "duration": 0.08268,
     "end_time": "2021-08-23T21:39:55.411076",
     "exception": false,
     "start_time": "2021-08-23T21:39:55.328396",
     "status": "completed"
    },
    "tags": []
   },
   "outputs": [
    {
     "data": {
      "text/html": [
       "<div>\n",
       "<style scoped>\n",
       "    .dataframe tbody tr th:only-of-type {\n",
       "        vertical-align: middle;\n",
       "    }\n",
       "\n",
       "    .dataframe tbody tr th {\n",
       "        vertical-align: top;\n",
       "    }\n",
       "\n",
       "    .dataframe thead th {\n",
       "        text-align: right;\n",
       "    }\n",
       "</style>\n",
       "<table border=\"1\" class=\"dataframe\">\n",
       "  <thead>\n",
       "    <tr style=\"text-align: right;\">\n",
       "      <th></th>\n",
       "      <th>PassengerId</th>\n",
       "      <th>Pclass</th>\n",
       "      <th>Name</th>\n",
       "      <th>Sex</th>\n",
       "      <th>Age</th>\n",
       "      <th>SibSp</th>\n",
       "      <th>Parch</th>\n",
       "      <th>Ticket</th>\n",
       "      <th>Fare</th>\n",
       "      <th>Embarked</th>\n",
       "      <th>Cabin1</th>\n",
       "    </tr>\n",
       "  </thead>\n",
       "  <tbody>\n",
       "    <tr>\n",
       "      <th>0</th>\n",
       "      <td>892</td>\n",
       "      <td>3</td>\n",
       "      <td>Kelly</td>\n",
       "      <td>0.0</td>\n",
       "      <td>34.50000</td>\n",
       "      <td>0.0</td>\n",
       "      <td>0.0</td>\n",
       "      <td>330911</td>\n",
       "      <td>7.8292</td>\n",
       "      <td>1.0</td>\n",
       "      <td>1.0</td>\n",
       "    </tr>\n",
       "    <tr>\n",
       "      <th>1</th>\n",
       "      <td>893</td>\n",
       "      <td>3</td>\n",
       "      <td>Wilkes</td>\n",
       "      <td>1.0</td>\n",
       "      <td>47.00000</td>\n",
       "      <td>1.0</td>\n",
       "      <td>0.0</td>\n",
       "      <td>363272</td>\n",
       "      <td>7.0000</td>\n",
       "      <td>0.0</td>\n",
       "      <td>1.0</td>\n",
       "    </tr>\n",
       "    <tr>\n",
       "      <th>2</th>\n",
       "      <td>894</td>\n",
       "      <td>2</td>\n",
       "      <td>Myles</td>\n",
       "      <td>0.0</td>\n",
       "      <td>62.00000</td>\n",
       "      <td>0.0</td>\n",
       "      <td>0.0</td>\n",
       "      <td>240276</td>\n",
       "      <td>9.6875</td>\n",
       "      <td>1.0</td>\n",
       "      <td>1.0</td>\n",
       "    </tr>\n",
       "    <tr>\n",
       "      <th>3</th>\n",
       "      <td>895</td>\n",
       "      <td>3</td>\n",
       "      <td>Wirz</td>\n",
       "      <td>0.0</td>\n",
       "      <td>27.00000</td>\n",
       "      <td>0.0</td>\n",
       "      <td>0.0</td>\n",
       "      <td>315154</td>\n",
       "      <td>8.6625</td>\n",
       "      <td>0.0</td>\n",
       "      <td>1.0</td>\n",
       "    </tr>\n",
       "    <tr>\n",
       "      <th>4</th>\n",
       "      <td>896</td>\n",
       "      <td>3</td>\n",
       "      <td>Hirvonen</td>\n",
       "      <td>1.0</td>\n",
       "      <td>22.00000</td>\n",
       "      <td>1.0</td>\n",
       "      <td>1.0</td>\n",
       "      <td>3101298</td>\n",
       "      <td>12.2875</td>\n",
       "      <td>0.0</td>\n",
       "      <td>1.0</td>\n",
       "    </tr>\n",
       "    <tr>\n",
       "      <th>...</th>\n",
       "      <td>...</td>\n",
       "      <td>...</td>\n",
       "      <td>...</td>\n",
       "      <td>...</td>\n",
       "      <td>...</td>\n",
       "      <td>...</td>\n",
       "      <td>...</td>\n",
       "      <td>...</td>\n",
       "      <td>...</td>\n",
       "      <td>...</td>\n",
       "      <td>...</td>\n",
       "    </tr>\n",
       "    <tr>\n",
       "      <th>413</th>\n",
       "      <td>1305</td>\n",
       "      <td>3</td>\n",
       "      <td>Spector</td>\n",
       "      <td>0.0</td>\n",
       "      <td>30.27259</td>\n",
       "      <td>0.0</td>\n",
       "      <td>0.0</td>\n",
       "      <td>A.5. 3236</td>\n",
       "      <td>8.0500</td>\n",
       "      <td>0.0</td>\n",
       "      <td>1.0</td>\n",
       "    </tr>\n",
       "    <tr>\n",
       "      <th>414</th>\n",
       "      <td>1306</td>\n",
       "      <td>1</td>\n",
       "      <td>Oliva y Ocana</td>\n",
       "      <td>1.0</td>\n",
       "      <td>39.00000</td>\n",
       "      <td>0.0</td>\n",
       "      <td>0.0</td>\n",
       "      <td>PC 17758</td>\n",
       "      <td>108.9000</td>\n",
       "      <td>2.0</td>\n",
       "      <td>5.0</td>\n",
       "    </tr>\n",
       "    <tr>\n",
       "      <th>415</th>\n",
       "      <td>1307</td>\n",
       "      <td>3</td>\n",
       "      <td>Saether</td>\n",
       "      <td>0.0</td>\n",
       "      <td>38.50000</td>\n",
       "      <td>0.0</td>\n",
       "      <td>0.0</td>\n",
       "      <td>SOTON/O.Q. 3101262</td>\n",
       "      <td>7.2500</td>\n",
       "      <td>0.0</td>\n",
       "      <td>1.0</td>\n",
       "    </tr>\n",
       "    <tr>\n",
       "      <th>416</th>\n",
       "      <td>1308</td>\n",
       "      <td>3</td>\n",
       "      <td>Ware</td>\n",
       "      <td>0.0</td>\n",
       "      <td>30.27259</td>\n",
       "      <td>0.0</td>\n",
       "      <td>0.0</td>\n",
       "      <td>359309</td>\n",
       "      <td>8.0500</td>\n",
       "      <td>0.0</td>\n",
       "      <td>1.0</td>\n",
       "    </tr>\n",
       "    <tr>\n",
       "      <th>417</th>\n",
       "      <td>1309</td>\n",
       "      <td>3</td>\n",
       "      <td>Peter</td>\n",
       "      <td>0.0</td>\n",
       "      <td>30.27259</td>\n",
       "      <td>1.0</td>\n",
       "      <td>1.0</td>\n",
       "      <td>2668</td>\n",
       "      <td>22.3583</td>\n",
       "      <td>2.0</td>\n",
       "      <td>1.0</td>\n",
       "    </tr>\n",
       "  </tbody>\n",
       "</table>\n",
       "<p>418 rows × 11 columns</p>\n",
       "</div>"
      ],
      "text/plain": [
       "     PassengerId  Pclass           Name  Sex       Age  SibSp  Parch  \\\n",
       "0            892       3          Kelly  0.0  34.50000    0.0    0.0   \n",
       "1            893       3         Wilkes  1.0  47.00000    1.0    0.0   \n",
       "2            894       2          Myles  0.0  62.00000    0.0    0.0   \n",
       "3            895       3           Wirz  0.0  27.00000    0.0    0.0   \n",
       "4            896       3       Hirvonen  1.0  22.00000    1.0    1.0   \n",
       "..           ...     ...            ...  ...       ...    ...    ...   \n",
       "413         1305       3        Spector  0.0  30.27259    0.0    0.0   \n",
       "414         1306       1  Oliva y Ocana  1.0  39.00000    0.0    0.0   \n",
       "415         1307       3        Saether  0.0  38.50000    0.0    0.0   \n",
       "416         1308       3           Ware  0.0  30.27259    0.0    0.0   \n",
       "417         1309       3          Peter  0.0  30.27259    1.0    1.0   \n",
       "\n",
       "                 Ticket      Fare  Embarked  Cabin1  \n",
       "0                330911    7.8292       1.0     1.0  \n",
       "1                363272    7.0000       0.0     1.0  \n",
       "2                240276    9.6875       1.0     1.0  \n",
       "3                315154    8.6625       0.0     1.0  \n",
       "4               3101298   12.2875       0.0     1.0  \n",
       "..                  ...       ...       ...     ...  \n",
       "413           A.5. 3236    8.0500       0.0     1.0  \n",
       "414            PC 17758  108.9000       2.0     5.0  \n",
       "415  SOTON/O.Q. 3101262    7.2500       0.0     1.0  \n",
       "416              359309    8.0500       0.0     1.0  \n",
       "417                2668   22.3583       2.0     1.0  \n",
       "\n",
       "[418 rows x 11 columns]"
      ]
     },
     "execution_count": 21,
     "metadata": {},
     "output_type": "execute_result"
    }
   ],
   "source": [
    "train[['Sex','Cabin1','Embarked']]=my_array\n",
    "test[['Sex','Cabin1','Embarked']]=my_array_test\n",
    "train.drop('Cabin',axis=1)\n",
    "test.drop('Cabin',axis=1)"
   ]
  },
  {
   "cell_type": "code",
   "execution_count": 22,
   "metadata": {
    "execution": {
     "iopub.execute_input": "2021-08-23T21:39:55.489329Z",
     "iopub.status.busy": "2021-08-23T21:39:55.488629Z",
     "iopub.status.idle": "2021-08-23T21:39:55.491431Z",
     "shell.execute_reply": "2021-08-23T21:39:55.492022Z",
     "shell.execute_reply.started": "2021-08-23T21:29:32.186359Z"
    },
    "papermill": {
     "duration": 0.046521,
     "end_time": "2021-08-23T21:39:55.492196",
     "exception": false,
     "start_time": "2021-08-23T21:39:55.445675",
     "status": "completed"
    },
    "tags": []
   },
   "outputs": [
    {
     "data": {
      "text/plain": [
       "array(['A', 'P', 'S', '1', '3', '2', 'C', '7', 'W', '4', 'F', 'L', '9',\n",
       "       '6', '5', '8'], dtype=object)"
      ]
     },
     "execution_count": 22,
     "metadata": {},
     "output_type": "execute_result"
    }
   ],
   "source": [
    "train['Ticket1']=train[\"Ticket\"].str.get(0)\n",
    "train['Ticket1'].unique()"
   ]
  },
  {
   "cell_type": "code",
   "execution_count": 23,
   "metadata": {
    "execution": {
     "iopub.execute_input": "2021-08-23T21:39:55.564838Z",
     "iopub.status.busy": "2021-08-23T21:39:55.564186Z",
     "iopub.status.idle": "2021-08-23T21:39:56.454136Z",
     "shell.execute_reply": "2021-08-23T21:39:56.453117Z",
     "shell.execute_reply.started": "2021-08-23T21:29:41.417169Z"
    },
    "papermill": {
     "duration": 0.927499,
     "end_time": "2021-08-23T21:39:56.454300",
     "exception": false,
     "start_time": "2021-08-23T21:39:55.526801",
     "status": "completed"
    },
    "tags": []
   },
   "outputs": [
    {
     "data": {
      "text/plain": [
       "<seaborn.axisgrid.FacetGrid at 0x7f6d46f14550>"
      ]
     },
     "execution_count": 23,
     "metadata": {},
     "output_type": "execute_result"
    },
    {
     "data": {
      "image/png": "[encoded data removed]",
      "text/plain": [
       "<Figure size 360x360 with 1 Axes>"
      ]
     },
     "metadata": {
      "needs_background": "light"
     },
     "output_type": "display_data"
    }
   ],
   "source": [
    "sns.catplot(x=\"Ticket1\", y=\"Survived\", kind=\"bar\", data=train)"
   ]
  },
  {
   "cell_type": "code",
   "execution_count": 24,
   "metadata": {
    "execution": {
     "iopub.execute_input": "2021-08-23T21:39:56.532881Z",
     "iopub.status.busy": "2021-08-23T21:39:56.532060Z",
     "iopub.status.idle": "2021-08-23T21:39:56.535108Z",
     "shell.execute_reply": "2021-08-23T21:39:56.534596Z",
     "shell.execute_reply.started": "2021-08-23T21:29:52.516612Z"
    },
    "papermill": {
     "duration": 0.045029,
     "end_time": "2021-08-23T21:39:56.535250",
     "exception": false,
     "start_time": "2021-08-23T21:39:56.490221",
     "status": "completed"
    },
    "tags": []
   },
   "outputs": [],
   "source": [
    "test['Ticket1']=test[\"Ticket\"].str.get(0)"
   ]
  },
  {
   "cell_type": "code",
   "execution_count": 25,
   "metadata": {
    "execution": {
     "iopub.execute_input": "2021-08-23T21:39:56.618796Z",
     "iopub.status.busy": "2021-08-23T21:39:56.618099Z",
     "iopub.status.idle": "2021-08-23T21:39:56.621426Z",
     "shell.execute_reply": "2021-08-23T21:39:56.620815Z",
     "shell.execute_reply.started": "2021-08-23T21:30:02.201870Z"
    },
    "papermill": {
     "duration": 0.050633,
     "end_time": "2021-08-23T21:39:56.621587",
     "exception": false,
     "start_time": "2021-08-23T21:39:56.570954",
     "status": "completed"
    },
    "tags": []
   },
   "outputs": [],
   "source": [
    "Ticket= ['5','8','A','7','W','6','4','L','3','S','C','2','F','1','P','9']\n",
    "encoder_ticket = OrdinalEncoder(categories=[Ticket])\n",
    "my_array_ticket=encoder_ticket.fit_transform(train[['Ticket1']]).reshape((891,1)).tolist()\n",
    "my_array_ticket_test=encoder_ticket.fit_transform(test[['Ticket1']]).reshape((418,1)).tolist()"
   ]
  },
  {
   "cell_type": "code",
   "execution_count": 26,
   "metadata": {
    "execution": {
     "iopub.execute_input": "2021-08-23T21:39:56.705033Z",
     "iopub.status.busy": "2021-08-23T21:39:56.704342Z",
     "iopub.status.idle": "2021-08-23T21:39:56.707733Z",
     "shell.execute_reply": "2021-08-23T21:39:56.707093Z",
     "shell.execute_reply.started": "2021-08-23T21:30:08.997726Z"
    },
    "papermill": {
     "duration": 0.050644,
     "end_time": "2021-08-23T21:39:56.707874",
     "exception": false,
     "start_time": "2021-08-23T21:39:56.657230",
     "status": "completed"
    },
    "tags": []
   },
   "outputs": [],
   "source": [
    "train[['Ticket1']]=my_array_ticket\n",
    "test[['Ticket1']]=my_array_ticket_test"
   ]
  },
  {
   "cell_type": "code",
   "execution_count": 27,
   "metadata": {
    "execution": {
     "iopub.execute_input": "2021-08-23T21:39:56.787005Z",
     "iopub.status.busy": "2021-08-23T21:39:56.785306Z",
     "iopub.status.idle": "2021-08-23T21:39:56.793691Z",
     "shell.execute_reply": "2021-08-23T21:39:56.793114Z",
     "shell.execute_reply.started": "2021-08-23T21:30:18.562522Z"
    },
    "papermill": {
     "duration": 0.050234,
     "end_time": "2021-08-23T21:39:56.793843",
     "exception": false,
     "start_time": "2021-08-23T21:39:56.743609",
     "status": "completed"
    },
    "tags": []
   },
   "outputs": [],
   "source": [
    "train=train.drop('Ticket',axis=1)\n",
    "test=test.drop('Ticket',axis=1)\n",
    "train=train.drop('Cabin',axis=1)\n",
    "test=test.drop('Cabin',axis=1)"
   ]
  },
  {
   "cell_type": "code",
   "execution_count": 28,
   "metadata": {
    "execution": {
     "iopub.execute_input": "2021-08-23T21:39:56.872529Z",
     "iopub.status.busy": "2021-08-23T21:39:56.871837Z",
     "iopub.status.idle": "2021-08-23T21:39:56.874341Z",
     "shell.execute_reply": "2021-08-23T21:39:56.874919Z",
     "shell.execute_reply.started": "2021-08-23T21:30:26.909944Z"
    },
    "papermill": {
     "duration": 0.044537,
     "end_time": "2021-08-23T21:39:56.875095",
     "exception": false,
     "start_time": "2021-08-23T21:39:56.830558",
     "status": "completed"
    },
    "tags": []
   },
   "outputs": [],
   "source": [
    "train=train.drop('Name',axis=1)\n",
    "test=test.drop('Name',axis=1)"
   ]
  },
  {
   "cell_type": "code",
   "execution_count": 29,
   "metadata": {
    "execution": {
     "iopub.execute_input": "2021-08-23T21:39:56.949871Z",
     "iopub.status.busy": "2021-08-23T21:39:56.949193Z",
     "iopub.status.idle": "2021-08-23T21:39:56.956836Z",
     "shell.execute_reply": "2021-08-23T21:39:56.957391Z",
     "shell.execute_reply.started": "2021-08-23T21:30:37.245665Z"
    },
    "papermill": {
     "duration": 0.046601,
     "end_time": "2021-08-23T21:39:56.957596",
     "exception": false,
     "start_time": "2021-08-23T21:39:56.910995",
     "status": "completed"
    },
    "tags": []
   },
   "outputs": [],
   "source": [
    "from sklearn.model_selection import train_test_split\n",
    "X=train.drop('Survived',axis=1)\n",
    "y=train['Survived']\n",
    "X_train,X_test,y_train,y_test=train_test_split(X,y,random_state=0)"
   ]
  },
  {
   "cell_type": "code",
   "execution_count": 30,
   "metadata": {
    "execution": {
     "iopub.execute_input": "2021-08-23T21:39:57.032919Z",
     "iopub.status.busy": "2021-08-23T21:39:57.032245Z",
     "iopub.status.idle": "2021-08-23T21:39:57.185806Z",
     "shell.execute_reply": "2021-08-23T21:39:57.186742Z",
     "shell.execute_reply.started": "2021-08-23T21:39:22.909307Z"
    },
    "papermill": {
     "duration": 0.193394,
     "end_time": "2021-08-23T21:39:57.186950",
     "exception": false,
     "start_time": "2021-08-23T21:39:56.993556",
     "status": "completed"
    },
    "tags": []
   },
   "outputs": [
    {
     "data": {
      "text/plain": [
       "0.8609865470852018"
      ]
     },
     "execution_count": 30,
     "metadata": {},
     "output_type": "execute_result"
    }
   ],
   "source": [
    "from xgboost import XGBClassifier\n",
    "from sklearn.metrics import accuracy_score \n",
    "my_model = XGBClassifier(n_estimators=500).fit(X_train, y_train, \n",
    "                                               early_stopping_rounds=5, \n",
    "                                               eval_set=[(X_test, y_test)],\n",
    "                                               verbose=False,\n",
    "                                               eval_metric='logloss')\n",
    "y_pred=my_model.predict(X_test)\n",
    "accuracy_score(y_test,y_pred)"
   ]
  },
  {
   "cell_type": "code",
   "execution_count": 31,
   "metadata": {
    "execution": {
     "iopub.execute_input": "2021-08-23T21:39:57.270251Z",
     "iopub.status.busy": "2021-08-23T21:39:57.266675Z",
     "iopub.status.idle": "2021-08-23T21:39:57.277097Z",
     "shell.execute_reply": "2021-08-23T21:39:57.277710Z",
     "shell.execute_reply.started": "2021-08-23T21:39:27.520520Z"
    },
    "papermill": {
     "duration": 0.052855,
     "end_time": "2021-08-23T21:39:57.277915",
     "exception": false,
     "start_time": "2021-08-23T21:39:57.225060",
     "status": "completed"
    },
    "tags": []
   },
   "outputs": [],
   "source": [
    "predicted_classes=my_model.predict(test)\n",
    "\n",
    "\n",
    "my_submission = pd.DataFrame({'PassengerId': test.PassengerId, 'Survived': predicted_classes})\n",
    "my_submission.to_csv('submission.csv', index=False)"
   ]
  }
 ],
 "metadata": {
  "kernelspec": {
   "display_name": "Python 3",
   "language": "python",
   "name": "python3"
  },
  "language_info": {
   "codemirror_mode": {
    "name": "ipython",
    "version": 3
   },
   "file_extension": ".py",
   "mimetype": "text/x-python",
   "name": "python",
   "nbconvert_exporter": "python",
   "pygments_lexer": "ipython3",
   "version": "3.8.5"
  },
  "papermill": {
   "default_parameters": {},
   "duration": 17.573576,
   "end_time": "2021-08-23T21:39:58.199408",
   "environment_variables": {},
   "exception": null,
   "input_path": "__notebook__.ipynb",
   "output_path": "__notebook__.ipynb",
   "parameters": {},
   "start_time": "2021-08-23T21:39:40.625832",
   "version": "2.3.3"
  }
 },
 "nbformat": 4,
 "nbformat_minor": 5
}
